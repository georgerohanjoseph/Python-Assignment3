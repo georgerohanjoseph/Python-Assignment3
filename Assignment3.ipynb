{
 "cells": [
  {
   "cell_type": "code",
   "execution_count": 1,
   "id": "ca6361a0-7bd4-4a24-a03d-d2b8599993ae",
   "metadata": {},
   "outputs": [],
   "source": [
    "x=15"
   ]
  },
  {
   "cell_type": "code",
   "execution_count": 2,
   "id": "92434310-d517-47a8-a303-003f4d190c3a",
   "metadata": {},
   "outputs": [],
   "source": [
    "y=x//4"
   ]
  },
  {
   "cell_type": "code",
   "execution_count": 3,
   "id": "93130470-bf0f-4554-b55d-22d0ea038563",
   "metadata": {},
   "outputs": [
    {
     "name": "stdout",
     "output_type": "stream",
     "text": [
      "3\n"
     ]
    }
   ],
   "source": [
    "print(y)"
   ]
  },
  {
   "cell_type": "code",
   "execution_count": 4,
   "id": "f0f98b8e-50d8-4f57-be0c-1f9c2661d90a",
   "metadata": {},
   "outputs": [],
   "source": [
    "z=x/4"
   ]
  },
  {
   "cell_type": "code",
   "execution_count": 5,
   "id": "7305898a-2a11-4518-aa0b-60ccb348f4a9",
   "metadata": {},
   "outputs": [
    {
     "name": "stdout",
     "output_type": "stream",
     "text": [
      "3.75\n"
     ]
    }
   ],
   "source": [
    "print(z)"
   ]
  },
  {
   "cell_type": "code",
   "execution_count": 6,
   "id": "e436f84b-b30d-486d-9e79-c727253250a8",
   "metadata": {},
   "outputs": [],
   "source": [
    "#In normal division, the number gets precisely divided whereas in floor division, it gets divided to the integer number equal to or less than the original result."
   ]
  },
  {
   "cell_type": "code",
   "execution_count": 7,
   "id": "52ab3834-ea54-4410-a0b8-6f8025d3958e",
   "metadata": {},
   "outputs": [
    {
     "name": "stdout",
     "output_type": "stream",
     "text": [
      "64\n"
     ]
    }
   ],
   "source": [
    "print(8**2)"
   ]
  },
  {
   "cell_type": "code",
   "execution_count": 8,
   "id": "32ecb4b3-24cb-484c-9188-cfe560c4130c",
   "metadata": {},
   "outputs": [
    {
     "name": "stdout",
     "output_type": "stream",
     "text": [
      "4.0\n"
     ]
    }
   ],
   "source": [
    "print(16**0.5)"
   ]
  },
  {
   "cell_type": "code",
   "execution_count": 11,
   "id": "f5a45cbf-c7d1-4615-b5a9-cf11dd58b69e",
   "metadata": {},
   "outputs": [],
   "source": [
    "#In the first output, the result is greater than the number operated whereas in the second result, it is less."
   ]
  },
  {
   "cell_type": "code",
   "execution_count": 12,
   "id": "90086732-95c6-4a06-b9cf-7fb12455c99b",
   "metadata": {},
   "outputs": [
    {
     "name": "stdout",
     "output_type": "stream",
     "text": [
      "6.25\n"
     ]
    }
   ],
   "source": [
    "print(20 - 5 * (3 + 8) /4)"
   ]
  },
  {
   "cell_type": "code",
   "execution_count": 13,
   "id": "682af42c-dbeb-4f24-9368-8cc9841470d8",
   "metadata": {},
   "outputs": [],
   "source": [
    "num=7"
   ]
  },
  {
   "cell_type": "code",
   "execution_count": 14,
   "id": "b16c8e7a-17dd-4ed1-91f4-b2f0597b2859",
   "metadata": {},
   "outputs": [],
   "source": [
    "num=float(num)"
   ]
  },
  {
   "cell_type": "code",
   "execution_count": 15,
   "id": "68ee1639-1c53-4f27-8d55-98511694175a",
   "metadata": {},
   "outputs": [
    {
     "name": "stdout",
     "output_type": "stream",
     "text": [
      "7.0\n"
     ]
    }
   ],
   "source": [
    "print(num)"
   ]
  },
  {
   "cell_type": "code",
   "execution_count": 16,
   "id": "76f74bce-0745-4832-bcb7-61a6087eb0de",
   "metadata": {},
   "outputs": [],
   "source": [
    "# 7 is integer whereas 7.0 is float."
   ]
  },
  {
   "cell_type": "code",
   "execution_count": 17,
   "id": "5be29d87-4281-46b2-9d1a-2fa2b914226e",
   "metadata": {},
   "outputs": [],
   "source": [
    "a=100>50"
   ]
  },
  {
   "cell_type": "code",
   "execution_count": 18,
   "id": "421dbd75-bff1-4d5e-8c96-285c2d643861",
   "metadata": {},
   "outputs": [
    {
     "name": "stdout",
     "output_type": "stream",
     "text": [
      "True\n"
     ]
    }
   ],
   "source": [
    "print(a)"
   ]
  },
  {
   "cell_type": "code",
   "execution_count": 19,
   "id": "52f754c7-5f2d-43a3-b728-17da1fa16d0b",
   "metadata": {},
   "outputs": [
    {
     "data": {
      "text/plain": [
       "bool"
      ]
     },
     "execution_count": 19,
     "metadata": {},
     "output_type": "execute_result"
    }
   ],
   "source": [
    "type(a)"
   ]
  },
  {
   "cell_type": "code",
   "execution_count": 20,
   "id": "a7d2553f-a542-4ab5-9341-c24e4cffd7d5",
   "metadata": {},
   "outputs": [],
   "source": [
    "is_sunny=True"
   ]
  },
  {
   "cell_type": "code",
   "execution_count": 21,
   "id": "2608fedc-2de8-472d-be88-018f2e3d11f8",
   "metadata": {},
   "outputs": [],
   "source": [
    "is_weekend=False"
   ]
  },
  {
   "cell_type": "code",
   "execution_count": 24,
   "id": "3004a4c8-0b46-4e10-badb-d036a926f513",
   "metadata": {},
   "outputs": [
    {
     "name": "stdout",
     "output_type": "stream",
     "text": [
      "Either not sunny or not a weekend\n"
     ]
    }
   ],
   "source": [
    "if is_sunny==True and is_weekend==True:\n",
    "    print(\"It is sunny and is a weekend\")\n",
    "else:\n",
    "    print(\"Either not sunny or not a weekend\")"
   ]
  },
  {
   "cell_type": "code",
   "execution_count": 25,
   "id": "cd8762ab-e3bd-4ea3-99dd-790053401595",
   "metadata": {},
   "outputs": [
    {
     "name": "stdin",
     "output_type": "stream",
     "text": [
      "Enter a password : 123456\n"
     ]
    }
   ],
   "source": [
    "password=\"my_password123\"\n",
    "a=input(\"Enter a password :\")"
   ]
  },
  {
   "cell_type": "code",
   "execution_count": 26,
   "id": "96a175c0-6888-438a-a1ac-ba09a02776c4",
   "metadata": {},
   "outputs": [
    {
     "name": "stdout",
     "output_type": "stream",
     "text": [
      "False\n"
     ]
    }
   ],
   "source": [
    "if password==a:\n",
    "    print(True)\n",
    "else:\n",
    "    print(False)\n"
   ]
  },
  {
   "cell_type": "code",
   "execution_count": 27,
   "id": "4fffcc54-f7b2-42bc-8f58-6b12bdeed35c",
   "metadata": {},
   "outputs": [
    {
     "name": "stdin",
     "output_type": "stream",
     "text": [
      "Enter a password : my_password123\n"
     ]
    }
   ],
   "source": [
    "password=\"my_password123\"\n",
    "a=input(\"Enter a password :\")"
   ]
  },
  {
   "cell_type": "code",
   "execution_count": 28,
   "id": "06273eb1-f6a0-4e1b-9569-5c525b1ab7e2",
   "metadata": {},
   "outputs": [
    {
     "name": "stdout",
     "output_type": "stream",
     "text": [
      "True\n"
     ]
    }
   ],
   "source": [
    "if password==a:\n",
    "    print(True)\n",
    "else:\n",
    "    print(False)\n"
   ]
  },
  {
   "cell_type": "code",
   "execution_count": 29,
   "id": "3156f0cf-3cad-46b5-adf4-31644732ddb7",
   "metadata": {},
   "outputs": [
    {
     "name": "stdout",
     "output_type": "stream",
     "text": [
      "55\n"
     ]
    }
   ],
   "source": [
    "marks=50\n",
    "marks+=5\n",
    "print(marks)"
   ]
  },
  {
   "cell_type": "code",
   "execution_count": 30,
   "id": "cc1c2ffa-a7d3-4c19-b478-a1e1e37bf733",
   "metadata": {},
   "outputs": [
    {
     "name": "stdout",
     "output_type": "stream",
     "text": [
      "10\n"
     ]
    }
   ],
   "source": [
    "a=0\n",
    "b=10\n",
    "if a or b:\n",
    "    print(a or b)"
   ]
  },
  {
   "cell_type": "code",
   "execution_count": 31,
   "id": "aa81ee94-6cd0-45d4-a0b7-d6198e646b8d",
   "metadata": {},
   "outputs": [],
   "source": [
    "#a is 0 , that means a is False, b is 10, i.e. b is True; a or b, i.e., output is True, hence output becomes 10."
   ]
  },
  {
   "cell_type": "code",
   "execution_count": 32,
   "id": "21e66d78-1e8c-4f4e-8dcd-00e885ccc2d1",
   "metadata": {},
   "outputs": [
    {
     "ename": "SyntaxError",
     "evalue": "invalid syntax (1626926689.py, line 1)",
     "output_type": "error",
     "traceback": [
      "\u001b[1;36m  Cell \u001b[1;32mIn[32], line 1\u001b[1;36m\u001b[0m\n\u001b[1;33m    print(!False)\u001b[0m\n\u001b[1;37m          ^\u001b[0m\n\u001b[1;31mSyntaxError\u001b[0m\u001b[1;31m:\u001b[0m invalid syntax\n"
     ]
    }
   ],
   "source": [
    "print(!False)"
   ]
  },
  {
   "cell_type": "code",
   "execution_count": 33,
   "id": "514b4f57-a6d3-4f8b-a56a-52868855d0b2",
   "metadata": {},
   "outputs": [
    {
     "name": "stdout",
     "output_type": "stream",
     "text": [
      "True\n"
     ]
    }
   ],
   "source": [
    "print(not False)"
   ]
  },
  {
   "cell_type": "code",
   "execution_count": 34,
   "id": "f1bf23b4-a73b-4941-b5da-0fbdaee24f8a",
   "metadata": {},
   "outputs": [],
   "source": [
    "#not operator turns True to False and False to True"
   ]
  },
  {
   "cell_type": "code",
   "execution_count": null,
   "id": "cd05c674-8d99-451d-86a5-f05de33a62ce",
   "metadata": {},
   "outputs": [],
   "source": []
  }
 ],
 "metadata": {
  "kernelspec": {
   "display_name": "Python 3 (ipykernel)",
   "language": "python",
   "name": "python3"
  },
  "language_info": {
   "codemirror_mode": {
    "name": "ipython",
    "version": 3
   },
   "file_extension": ".py",
   "mimetype": "text/x-python",
   "name": "python",
   "nbconvert_exporter": "python",
   "pygments_lexer": "ipython3",
   "version": "3.12.7"
  }
 },
 "nbformat": 4,
 "nbformat_minor": 5
}
